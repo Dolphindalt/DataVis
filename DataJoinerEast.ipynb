{
 "cells": [
  {
   "cell_type": "code",
   "execution_count": 1,
   "metadata": {},
   "outputs": [],
   "source": [
    "import pandas as pd\n",
    "import matplotlib.pyplot as plt"
   ]
  },
  {
   "cell_type": "code",
   "execution_count": 2,
   "metadata": {},
   "outputs": [],
   "source": [
    "def open_data(file_name):\n",
    "    df = pd.read_excel(file_name)\n",
    "    df.dropna(inplace=True)\n",
    "    df = df.set_index(\"Item\", drop=True)\n",
    "    return df"
   ]
  },
  {
   "cell_type": "code",
   "execution_count": 3,
   "metadata": {},
   "outputs": [],
   "source": [
    "data_path = \"data/\"\n",
    "itr = 2004\n",
    "dfs = []\n",
    "while itr < 2012:\n",
    "    file_name = data_path + \"ne_\" + str(itr) + \".xls\"\n",
    "    dfs.append(open_data(file_name))\n",
    "    itr += 1\n",
    "while itr < 2018:\n",
    "    file_name = data_path + \"ne_\" + str(itr) + \".xlsx\"\n",
    "    dfs.append(open_data(file_name))\n",
    "    itr += 1"
   ]
  },
  {
   "cell_type": "code",
   "execution_count": 10,
   "metadata": {},
   "outputs": [],
   "source": [
    "btax = pd.DataFrame(columns=[\"Year\", \"New York\", \"Philadelphia\"])\n",
    "food = pd.DataFrame(columns=[\"Year\", \"New York\", \"Philadelphia\"])\n",
    "education = pd.DataFrame(columns=[\"Year\", \"Education Expenditures\"])\n",
    "alcohol = pd.DataFrame(columns=[\"Year\", \"New York\", \"Philadelphia\"])\n",
    "average_expenditures = pd.DataFrame(columns=[\"Year\", \"New York\", \"Philadelphia\"])"
   ]
  },
  {
   "cell_type": "code",
   "execution_count": 11,
   "metadata": {},
   "outputs": [
    {
     "data": {
      "text/html": [
       "<div>\n",
       "<style scoped>\n",
       "    .dataframe tbody tr th:only-of-type {\n",
       "        vertical-align: middle;\n",
       "    }\n",
       "\n",
       "    .dataframe tbody tr th {\n",
       "        vertical-align: top;\n",
       "    }\n",
       "\n",
       "    .dataframe thead th {\n",
       "        text-align: right;\n",
       "    }\n",
       "</style>\n",
       "<table border=\"1\" class=\"dataframe\">\n",
       "  <thead>\n",
       "    <tr style=\"text-align: right;\">\n",
       "      <th></th>\n",
       "      <th>New York</th>\n",
       "      <th>Philadelphia</th>\n",
       "    </tr>\n",
       "    <tr>\n",
       "      <th>Year</th>\n",
       "      <th></th>\n",
       "      <th></th>\n",
       "    </tr>\n",
       "  </thead>\n",
       "  <tbody>\n",
       "    <tr>\n",
       "      <th>2004</th>\n",
       "      <td>54121.0</td>\n",
       "      <td>47289.0</td>\n",
       "    </tr>\n",
       "    <tr>\n",
       "      <th>2005</th>\n",
       "      <td>55137.0</td>\n",
       "      <td>45922.0</td>\n",
       "    </tr>\n",
       "    <tr>\n",
       "      <th>2006</th>\n",
       "      <td>56683.0</td>\n",
       "      <td>48649.0</td>\n",
       "    </tr>\n",
       "    <tr>\n",
       "      <th>2007</th>\n",
       "      <td>59185.0</td>\n",
       "      <td>55706.0</td>\n",
       "    </tr>\n",
       "    <tr>\n",
       "      <th>2008</th>\n",
       "      <td>60273.0</td>\n",
       "      <td>56790.0</td>\n",
       "    </tr>\n",
       "  </tbody>\n",
       "</table>\n",
       "</div>"
      ],
      "text/plain": [
       "      New York  Philadelphia\n",
       "Year                        \n",
       "2004   54121.0       47289.0\n",
       "2005   55137.0       45922.0\n",
       "2006   56683.0       48649.0\n",
       "2007   59185.0       55706.0\n",
       "2008   60273.0       56790.0"
      ]
     },
     "execution_count": 11,
     "metadata": {},
     "output_type": "execute_result"
    }
   ],
   "source": [
    "itr = 2004\n",
    "for df in dfs:\n",
    "    btax = btax.append({ \"Year\": str(itr), \"New York\": df.iloc[1, 1], \"Philadelphia\": df.iloc[1, 2] }, ignore_index=True)\n",
    "    food = food.append({ \"Year\": str(itr), \\\n",
    "        \"New York\": df.iloc[10, 1], \"Philadelphia\": df.iloc[10, 2]}, ignore_index=True)\n",
    "    education = education.append({ \"Year\": str(itr),\\\n",
    "        \"New York\": df.iloc[38, 1],\\\n",
    "        \"Philadelphia\": df.iloc[38, 2] }, ignore_index=True)\n",
    "    alcohol = alcohol.append({ \"Year\": str(itr), \\\n",
    "        \"New York\": df.iloc[18, 1], \"Philadelphia\": df.iloc[18, 2]}, ignore_index=True)\n",
    "    average_expenditures = average_expenditures.append({ \"Year\": str(itr), \\\n",
    "        \"New York\": df.iloc[9, 1], \"Philadelphia\": df.iloc[9, 2]}, ignore_index=True)\n",
    "    itr += 1\n",
    "btax = btax.set_index(\"Year\", drop=True)\n",
    "food = food.set_index(\"Year\", drop=True)\n",
    "education = education.set_index(\"Year\", drop=True)\n",
    "alcohol = alcohol.set_index(\"Year\", drop=True)\n",
    "average_expenditures = average_expenditures.set_index(\"Year\", drop=True)\n",
    "average_expenditures.head()"
   ]
  },
  {
   "cell_type": "code",
   "execution_count": 12,
   "metadata": {},
   "outputs": [],
   "source": [
    "average_expenditures.to_csv(\"./data/average_expenditures_northeast.csv\", sep='\\t')"
   ]
  },
  {
   "cell_type": "code",
   "execution_count": null,
   "metadata": {},
   "outputs": [],
   "source": []
  }
 ],
 "metadata": {
  "kernelspec": {
   "display_name": "Python 3",
   "language": "python",
   "name": "python3"
  },
  "language_info": {
   "codemirror_mode": {
    "name": "ipython",
    "version": 3
   },
   "file_extension": ".py",
   "mimetype": "text/x-python",
   "name": "python",
   "nbconvert_exporter": "python",
   "pygments_lexer": "ipython3",
   "version": "3.8.1"
  }
 },
 "nbformat": 4,
 "nbformat_minor": 2
}
