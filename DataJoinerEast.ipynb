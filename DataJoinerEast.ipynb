{
 "cells": [
  {
   "cell_type": "code",
   "execution_count": 9,
   "metadata": {},
   "outputs": [],
   "source": [
    "import pandas as pd\n",
    "import matplotlib.pyplot as plt"
   ]
  },
  {
   "cell_type": "code",
   "execution_count": 15,
   "metadata": {},
   "outputs": [],
   "source": [
    "def open_data(file_name):\n",
    "    df = pd.read_excel(file_name)\n",
    "    df.dropna(inplace=True)\n",
    "    df = df.set_index(\"Item\", drop=True)\n",
    "    return df"
   ]
  },
  {
   "cell_type": "code",
   "execution_count": 16,
   "metadata": {},
   "outputs": [],
   "source": [
    "data_path = \"data/\"\n",
    "itr = 2004\n",
    "dfs = []\n",
    "while itr < 2012:\n",
    "    file_name = data_path + \"ne_\" + str(itr) + \".xls\"\n",
    "    dfs.append(open_data(file_name))\n",
    "    itr += 1\n",
    "while itr < 2018:\n",
    "    file_name = data_path + \"ne_\" + str(itr) + \".xlsx\"\n",
    "    dfs.append(open_data(file_name))\n",
    "    itr += 1"
   ]
  },
  {
   "cell_type": "code",
   "execution_count": 17,
   "metadata": {},
   "outputs": [],
   "source": [
    "btax = pd.DataFrame(columns=[\"Year\", \"New York\", \"Philadelphia\"])\n",
    "food = pd.DataFrame(columns=[\"Year\", \"Food Expenditures\"])"
   ]
  },
  {
   "cell_type": "code",
   "execution_count": 18,
   "metadata": {},
   "outputs": [
    {
     "data": {
      "text/html": [
       "<div>\n",
       "<style scoped>\n",
       "    .dataframe tbody tr th:only-of-type {\n",
       "        vertical-align: middle;\n",
       "    }\n",
       "\n",
       "    .dataframe tbody tr th {\n",
       "        vertical-align: top;\n",
       "    }\n",
       "\n",
       "    .dataframe thead th {\n",
       "        text-align: right;\n",
       "    }\n",
       "</style>\n",
       "<table border=\"1\" class=\"dataframe\">\n",
       "  <thead>\n",
       "    <tr style=\"text-align: right;\">\n",
       "      <th></th>\n",
       "      <th>Food Expenditures</th>\n",
       "    </tr>\n",
       "    <tr>\n",
       "      <th>Year</th>\n",
       "      <th></th>\n",
       "    </tr>\n",
       "  </thead>\n",
       "  <tbody>\n",
       "    <tr>\n",
       "      <th>2004</th>\n",
       "      <td>6430.0</td>\n",
       "    </tr>\n",
       "    <tr>\n",
       "      <th>2005</th>\n",
       "      <td>6357.0</td>\n",
       "    </tr>\n",
       "    <tr>\n",
       "      <th>2006</th>\n",
       "      <td>6320.0</td>\n",
       "    </tr>\n",
       "    <tr>\n",
       "      <th>2007</th>\n",
       "      <td>6688.0</td>\n",
       "    </tr>\n",
       "    <tr>\n",
       "      <th>2008</th>\n",
       "      <td>6967.0</td>\n",
       "    </tr>\n",
       "  </tbody>\n",
       "</table>\n",
       "</div>"
      ],
      "text/plain": [
       "      Food Expenditures\n",
       "Year                   \n",
       "2004             6430.0\n",
       "2005             6357.0\n",
       "2006             6320.0\n",
       "2007             6688.0\n",
       "2008             6967.0"
      ]
     },
     "execution_count": 18,
     "metadata": {},
     "output_type": "execute_result"
    }
   ],
   "source": [
    "itr = 2004\n",
    "for df in dfs:\n",
    "    btax = btax.append({ \"Year\": str(itr), \"New York\": df.iloc[1, 1], \"Philadelphia\": df.iloc[1, 2] }, ignore_index=True)\n",
    "    food = food.append({ \"Year\": str(itr), \\\n",
    "        \"Food Expenditures\": df.iloc[10, 0]}, ignore_index=True)\n",
    "    itr += 1\n",
    "btax = btax.set_index(\"Year\", drop=True)\n",
    "food = food.set_index(\"Year\", drop=True)\n",
    "\n",
    "food.head()"
   ]
  },
  {
   "cell_type": "code",
   "execution_count": 19,
   "metadata": {},
   "outputs": [],
   "source": [
    "food.to_csv(\"./data/food_ne.csv\", sep='\\t')"
   ]
  },
  {
   "cell_type": "code",
   "execution_count": null,
   "metadata": {},
   "outputs": [],
   "source": []
  }
 ],
 "metadata": {
  "kernelspec": {
   "display_name": "Python 3",
   "language": "python",
   "name": "python3"
  },
  "language_info": {
   "codemirror_mode": {
    "name": "ipython",
    "version": 3
   },
   "file_extension": ".py",
   "mimetype": "text/x-python",
   "name": "python",
   "nbconvert_exporter": "python",
   "pygments_lexer": "ipython3",
   "version": "3.8.1"
  }
 },
 "nbformat": 4,
 "nbformat_minor": 2
}
