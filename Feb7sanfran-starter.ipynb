{
 "cells": [
  {
   "cell_type": "markdown",
   "metadata": {},
   "source": [
    "# Create a cholorpleth map of San Francisco crimes\n",
    "First read the crime data into a dataframe\n",
    "Recall the data is in Police_Department_Incidents_2016.csv "
   ]
  },
  {
   "cell_type": "code",
   "execution_count": null,
   "metadata": {},
   "outputs": [],
   "source": [
    "import folium\n",
    "import pandas as pd\n",
    "\n",
    "#San Francisco Crime data for 2016\n",
    "df_incidents = pd.read_csv('data/Police_Department_Incidents_2016.csv')\n",
    "df_incidents.head()\n"
   ]
  },
  {
   "cell_type": "markdown",
   "metadata": {},
   "source": [
    "# Find the number of crimes reported in each district\n",
    "There is a value_counts method to perform the calculation. It returns a series.\n",
    "Convert the series into a DataFrame. You will want to reset the index and label the columns."
   ]
  },
  {
   "cell_type": "code",
   "execution_count": null,
   "metadata": {},
   "outputs": [],
   "source": [
    "#Calculate the number of incidents in each district\n",
    "counts = df_incidents['PdDistrict'].value_counts()\n",
    "counts\n",
    "\n",
    "#Create a data frame to pass to Choropleth \n",
    "#First uncomment one of the last two lines\n",
    "\n",
    "#Next uncomment each line below one at a time to understand what each step does\n",
    "#df_counts = pd.DataFrame(counts)\n",
    "#df_counts = df_counts.reset_index()\n",
    "#df_counts.columns = ['district', 'number']\n",
    "\n",
    "\n",
    "#df_counts\n",
    "#df_counts.shape  #notice how the shape changes from 1 column to 2 columns"
   ]
  },
  {
   "cell_type": "markdown",
   "metadata": {},
   "source": [
    "# Create a San Francisco map\n",
    "Center at 37.77 and -122.45, with starting zoom of 12.\n",
    "Go ahead and overlay the district boundaries in the geojson file"
   ]
  },
  {
   "cell_type": "code",
   "execution_count": null,
   "metadata": {
    "scrolled": true
   },
   "outputs": [],
   "source": []
  },
  {
   "cell_type": "markdown",
   "metadata": {},
   "source": [
    "# Use the Choropleth class to create the map\n",
    "The colorbar will be displayed automatically."
   ]
  },
  {
   "cell_type": "code",
   "execution_count": null,
   "metadata": {
    "scrolled": true
   },
   "outputs": [],
   "source": []
  },
  {
   "cell_type": "markdown",
   "metadata": {},
   "source": [
    "# Improvements\n",
    "Modify the map as you want.\n",
    "<p>Add another layer - checkout the MarkerCluster folium plugin.\n",
    "<p>Add markers with a description of incident.\n",
    "<p>Add a layer control."
   ]
  },
  {
   "cell_type": "code",
   "execution_count": null,
   "metadata": {},
   "outputs": [],
   "source": []
  },
  {
   "cell_type": "code",
   "execution_count": null,
   "metadata": {},
   "outputs": [],
   "source": []
  }
 ],
 "metadata": {
  "kernelspec": {
   "display_name": "Python 3",
   "language": "python",
   "name": "python3"
  },
  "language_info": {
   "codemirror_mode": {
    "name": "ipython",
    "version": 3
   },
   "file_extension": ".py",
   "mimetype": "text/x-python",
   "name": "python",
   "nbconvert_exporter": "python",
   "pygments_lexer": "ipython3",
   "version": "3.7.1"
  }
 },
 "nbformat": 4,
 "nbformat_minor": 2
}
