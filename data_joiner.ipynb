{
 "cells": [
  {
   "cell_type": "code",
   "execution_count": 3,
   "metadata": {},
   "outputs": [],
   "source": [
    "import pandas as pd\n",
    "import matplotlib.pyplot as plt"
   ]
  },
  {
   "cell_type": "code",
   "execution_count": 4,
   "metadata": {},
   "outputs": [],
   "source": [
    "df = pd.read_excel(\"data/2004.xls\")\n",
    "df.dropna(inplace=True)\n",
    "df = df.set_index(\"Item\", drop=True)\n",
    "df.to_csv(\"./data/test_csv.csv\", sep='\\t')"
   ]
  },
  {
   "cell_type": "code",
   "execution_count": 5,
   "metadata": {},
   "outputs": [],
   "source": [
    "def open_data(file_name):\n",
    "    df = pd.read_excel(file_name)\n",
    "    df.dropna(inplace=True)\n",
    "    df = df.set_index(\"Item\", drop=True)\n",
    "    return df"
   ]
  },
  {
   "cell_type": "code",
   "execution_count": 6,
   "metadata": {},
   "outputs": [],
   "source": [
    "data_path = \"data/\"\n",
    "itr = 2004\n",
    "dfs = []\n",
    "while itr < 2012:\n",
    "    file_name = data_path + str(itr) + \".xls\"\n",
    "    dfs.append(open_data(file_name))\n",
    "    itr += 1\n",
    "while itr < 2018:\n",
    "    file_name = data_path + str(itr) + \".xlsx\"\n",
    "    dfs.append(open_data(file_name))\n",
    "    itr += 1"
   ]
  },
  {
   "cell_type": "code",
   "execution_count": 22,
   "metadata": {},
   "outputs": [],
   "source": [
    "btax = pd.DataFrame(columns=[\"Year\", \"Los Angeles\", \"San Francisco\", \"San Diego\", \"Seattle\", \"Phoenix\"])\n",
    "ageref = pd.DataFrame(columns=[\"Year\", \"Los Angeles\", \"San Francisco\", \"San Diego\", \"Seattle\", \"Phoenix\"])\n",
    "persons = pd.DataFrame(columns=[\"Year\", \"Item\", \"Los Angeles\", \"San Francisco\", \"San Diego\", \"Seattle\", \"Phoenix\"])\n",
    "under18 = pd.DataFrame(columns=[\"Year\", \"Item\", \"Los Angeles\", \"San Francisco\", \"San Diego\", \"Seattle\", \"Phoenix\"])\n",
    "food = pd.DataFrame(columns=[\"Year\", \"Los Angeles\", \"San Francisco\"])\n",
    "education = pd.DataFrame(columns=[\"Year\", \"Los Angeles\", \"San Francisco\"])\n",
    "alcohol = pd.DataFrame(columns=[\"Year\", \"Los Angeles\", \"San Francisco\", \"San Diego\", \"Seattle\", \"Phoenix\"])\n",
    "average_expenditures = pd.DataFrame(columns=[\"Year\", \"Los Angeles\", \"San Francisco\", \"San Diego\", \"Seattle\", \"Phoenix\"])"
   ]
  },
  {
   "cell_type": "code",
   "execution_count": 23,
   "metadata": {},
   "outputs": [
    {
     "data": {
      "text/html": [
       "<div>\n",
       "<style scoped>\n",
       "    .dataframe tbody tr th:only-of-type {\n",
       "        vertical-align: middle;\n",
       "    }\n",
       "\n",
       "    .dataframe tbody tr th {\n",
       "        vertical-align: top;\n",
       "    }\n",
       "\n",
       "    .dataframe thead th {\n",
       "        text-align: right;\n",
       "    }\n",
       "</style>\n",
       "<table border=\"1\" class=\"dataframe\">\n",
       "  <thead>\n",
       "    <tr style=\"text-align: right;\">\n",
       "      <th></th>\n",
       "      <th>Los Angeles</th>\n",
       "      <th>San Francisco</th>\n",
       "      <th>San Diego</th>\n",
       "      <th>Seattle</th>\n",
       "      <th>Phoenix</th>\n",
       "    </tr>\n",
       "    <tr>\n",
       "      <th>Year</th>\n",
       "      <th></th>\n",
       "      <th></th>\n",
       "      <th></th>\n",
       "      <th></th>\n",
       "      <th></th>\n",
       "    </tr>\n",
       "  </thead>\n",
       "  <tbody>\n",
       "    <tr>\n",
       "      <th>2004</th>\n",
       "      <td>485.0</td>\n",
       "      <td>628.0</td>\n",
       "      <td>613.0</td>\n",
       "      <td>526.0</td>\n",
       "      <td>781.0</td>\n",
       "    </tr>\n",
       "    <tr>\n",
       "      <th>2005</th>\n",
       "      <td>475.0</td>\n",
       "      <td>757.0</td>\n",
       "      <td>755.0</td>\n",
       "      <td>752.0</td>\n",
       "      <td>693.0</td>\n",
       "    </tr>\n",
       "    <tr>\n",
       "      <th>2006</th>\n",
       "      <td>543.0</td>\n",
       "      <td>888.0</td>\n",
       "      <td>520.0</td>\n",
       "      <td>570.0</td>\n",
       "      <td>645.0</td>\n",
       "    </tr>\n",
       "    <tr>\n",
       "      <th>2007</th>\n",
       "      <td>475.0</td>\n",
       "      <td>757.0</td>\n",
       "      <td>755.0</td>\n",
       "      <td>752.0</td>\n",
       "      <td>693.0</td>\n",
       "    </tr>\n",
       "    <tr>\n",
       "      <th>2008</th>\n",
       "      <td>504.0</td>\n",
       "      <td>714.0</td>\n",
       "      <td>647.0</td>\n",
       "      <td>839.0</td>\n",
       "      <td>503.0</td>\n",
       "    </tr>\n",
       "  </tbody>\n",
       "</table>\n",
       "</div>"
      ],
      "text/plain": [
       "      Los Angeles  San Francisco  San Diego  Seattle  Phoenix\n",
       "Year                                                         \n",
       "2004        485.0          628.0      613.0    526.0    781.0\n",
       "2005        475.0          757.0      755.0    752.0    693.0\n",
       "2006        543.0          888.0      520.0    570.0    645.0\n",
       "2007        475.0          757.0      755.0    752.0    693.0\n",
       "2008        504.0          714.0      647.0    839.0    503.0"
      ]
     },
     "execution_count": 23,
     "metadata": {},
     "output_type": "execute_result"
    }
   ],
   "source": [
    "itr = 2004\n",
    "for df in dfs:\n",
    "    btax = btax.append({ \"Year\": str(itr), \"Los Angeles\": df.iloc[1, 1], \\\n",
    "        \"San Francisco\": df.iloc[1, 2], \"San Diego\": df.iloc[1, 3], \\\n",
    "        \"Seattle\": df.iloc[1, 4], \"Phoenix\": df.iloc[1, 5] }, ignore_index=True)\n",
    "    ageref = ageref.append({ \"Year\": str(itr), \"Los Angeles\": df.iloc[2, 1], \\\n",
    "        \"San Francisco\": df.iloc[2, 2], \"San Diego\": df.iloc[2, 3], \\\n",
    "        \"Seattle\": df.iloc[2, 4], \"Phoenix\": df.iloc[2, 5] }, ignore_index=True)\n",
    "    persons = persons.append({ \"Year\": str(itr), \"Item\": \"Persons\", \"Los Angeles\": df.iloc[4, 1], \\\n",
    "        \"San Francisco\": df.iloc[4, 2], \"San Diego\": df.iloc[4, 3], \\\n",
    "        \"Seattle\": df.iloc[4, 4], \"Phoenix\": df.iloc[4, 5] }, ignore_index=True)\n",
    "    under18 = under18.append({ \"Year\": str(itr), \"Item\": \"Children under 18\", \"Los Angeles\": df.iloc[5, 1], \\\n",
    "        \"San Francisco\": df.iloc[5, 2], \"San Diego\": df.iloc[5, 3], \\\n",
    "        \"Seattle\": df.iloc[5, 4], \"Phoenix\": df.iloc[5, 5] }, ignore_index=True)\n",
    "    food = food.append({ \"Year\": str(itr), \\\n",
    "        \"Los Angeles\": df.iloc[10, 1], \"San Francisco\": df.iloc[10, 2],\\\n",
    "        \"San Diego\": df.iloc[10, 3], \"Seattle\": df.iloc[10,4], \"Phoenix\": df.iloc[10,5]},\\\n",
    "        ignore_index=True)\n",
    "    education = education.append({ \"Year\": str(itr), \"Los Angeles\": df.iloc[38, 1], \\\n",
    "        \"San Francisco\": df.iloc[38, 2],\\\n",
    "        \"San Diego\": df.iloc[38, 3], \"Seattle\": df.iloc[38,4], \"Phoenix\": df.iloc[38,5]},\\\n",
    "        ignore_index=True)\n",
    "    alcohol = alcohol.append({ \"Year\": str(itr), \\\n",
    "        \"Los Angeles\": df.iloc[18, 1], \"San Francisco\": df.iloc[18, 2],\\\n",
    "        \"San Diego\": df.iloc[18, 3], \"Seattle\": df.iloc[18,4], \"Phoenix\": df.iloc[18,5]},\\\n",
    "        ignore_index=True)\n",
    "    average_expenditures = average_expenditures.append({ \"Year\": str(itr),\\\n",
    "        \"Los Angeles\": df.iloc[9, 1],\\\n",
    "        \"San Francisco\": df.iloc[9, 2],\\\n",
    "        \"San Diego\": df.iloc[9, 3], \"Seattle\": df.iloc[9,4], \"Phoenix\": df.iloc[9,5]},\\\n",
    "        ignore_index=True)\n",
    "    itr += 1\n",
    "btax = btax.set_index(\"Year\", drop=True)\n",
    "ageref = ageref.set_index(\"Year\", drop=True)\n",
    "persons = persons.set_index(\"Year\", drop=True)\n",
    "under18 = under18.set_index(\"Year\", drop=True)\n",
    "food = food.set_index(\"Year\", drop=True)\n",
    "education = education.set_index(\"Year\", drop=True)\n",
    "alcohol = alcohol.set_index(\"Year\", drop=True)\n",
    "average_expenditures = average_expenditures.set_index(\"Year\", drop=True)\n",
    "alcohol.head()"
   ]
  },
  {
   "cell_type": "code",
   "execution_count": 24,
   "metadata": {},
   "outputs": [],
   "source": [
    "alcohol.to_csv(\"./data/alcohol_west.csv\", sep='\\t')"
   ]
  },
  {
   "cell_type": "code",
   "execution_count": null,
   "metadata": {},
   "outputs": [],
   "source": []
  }
 ],
 "metadata": {
  "kernelspec": {
   "display_name": "Python 3",
   "language": "python",
   "name": "python3"
  },
  "language_info": {
   "codemirror_mode": {
    "name": "ipython",
    "version": 3
   },
   "file_extension": ".py",
   "mimetype": "text/x-python",
   "name": "python",
   "nbconvert_exporter": "python",
   "pygments_lexer": "ipython3",
   "version": "3.8.1"
  }
 },
 "nbformat": 4,
 "nbformat_minor": 2
}
