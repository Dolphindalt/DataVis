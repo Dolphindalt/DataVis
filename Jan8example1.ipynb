{
 "cells": [
  {
   "cell_type": "markdown",
   "metadata": {},
   "source": [
    "## matplotlib Examples"
   ]
  },
  {
   "cell_type": "markdown",
   "metadata": {},
   "source": [
    "In the first assignment you will import data, create a scatter plot, and fit a line to the data. Here is an example using 100 random data points.  We will need to install matplotlib. Using pip, this is done on the lab computers using:\n",
    "\n",
    "python -m pip install matplotlib --user\n",
    "\n",
    "Documentation on matplotlib can be found at https://matplotlib.org/"
   ]
  },
  {
   "cell_type": "code",
   "execution_count": null,
   "metadata": {},
   "outputs": [],
   "source": [
    "#import the needed modules\n",
    "import matplotlib.pyplot as plt\n",
    "import random\n",
    "\n",
    "#create the random y values for a sequence of x values from 1 to 100\n",
    "x=range(1,100)\n",
    "y=[]\n",
    "for num in x:\n",
    "    y.append(.5 * num + random.random()*5)\n",
    "    \n",
    "#display the values\n",
    "print(x)\n",
    "print(y)"
   ]
  },
  {
   "cell_type": "code",
   "execution_count": null,
   "metadata": {
    "scrolled": true
   },
   "outputs": [],
   "source": [
    "#Create a plot with labeled axes\n",
    "#Create Plot\n",
    "plt.scatter(x,y,c='g',marker=\"+\")\n",
    "plt.xlabel(\"X\")\n",
    "plt.ylabel(\"Y\")\n",
    "plt.title(\"Example Plot\")\n",
    "plt.show()"
   ]
  },
  {
   "cell_type": "code",
   "execution_count": null,
   "metadata": {},
   "outputs": [],
   "source": [
    "#Create a larger interactive plot\n",
    "%matplotlib notebook\n",
    "plt.scatter(x,y,c='b',marker=\"+\")\n",
    "plt.show()"
   ]
  },
  {
   "cell_type": "code",
   "execution_count": null,
   "metadata": {},
   "outputs": [],
   "source": [
    "#least squares fit using the linear algebra, first setup A\n",
    "#with x in one column and all 1's in second column. \n",
    "import numpy as np\n",
    "A = np.vstack([x, np.ones(len(x))]).T\n",
    "m, c = np.linalg.lstsq(A, y,rcond=None)[0]\n",
    "\n",
    "#create the scatter plot with the best fit line\n",
    "plt.scatter(x,y,c='g',marker=\"+\")\n",
    "plt.plot(x, m*x + c, 'r', label='Fitted line')\n",
    "plt.xlabel(\"X\")\n",
    "plt.ylabel(\"Y\")\n",
    "plt.title(\"Example Plot\")\n",
    "plt.show()\n"
   ]
  },
  {
   "cell_type": "code",
   "execution_count": null,
   "metadata": {},
   "outputs": [],
   "source": []
  }
 ],
 "metadata": {
  "kernelspec": {
   "display_name": "Python 3",
   "language": "python",
   "name": "python3"
  },
  "language_info": {
   "codemirror_mode": {
    "name": "ipython",
    "version": 3
   },
   "file_extension": ".py",
   "mimetype": "text/x-python",
   "name": "python",
   "nbconvert_exporter": "python",
   "pygments_lexer": "ipython3",
   "version": "3.7.1"
  }
 },
 "nbformat": 4,
 "nbformat_minor": 2
}
