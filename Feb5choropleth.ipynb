{
 "cells": [
  {
   "cell_type": "markdown",
   "metadata": {},
   "source": [
    "## Folium\n",
    "Create choropleth maps, interactive maps with markers and GeoJSON overlays\n",
    "\n",
    "https://pypi.org/project/folium/"
   ]
  },
  {
   "cell_type": "code",
   "execution_count": 3,
   "metadata": {},
   "outputs": [],
   "source": [
    "import folium\n",
    "import pandas as pd\n",
    "\n",
    "#state_geo = r'data/us-states.json'\n",
    "#state_unemployment = r'data/US_Unemployment_Oct2012.csv'\n",
    "state_geo = 'data/us-states.json'\n",
    "state_unemployment = 'data/US_Unemployment_Oct2012.csv'\n",
    "\n",
    "state_data = pd.read_csv(state_unemployment)\n",
    "\n",
    "#Let Folium determine the scale\n",
    "usmap = folium.Map(location=[48, -102], zoom_start=3)\n",
    "usmap.choropleth(geo_data=state_geo, data=state_data,\n",
    "             columns=['State', 'Unemployment'],\n",
    "             key_on='feature.id',\n",
    "             fill_color='YlGn', fill_opacity=0.7, line_opacity=0.2,\n",
    "             legend_name='Unemployment Rate (%)')\n",
    "\n",
    "usmap.save('us_states.html')"
   ]
  },
  {
   "cell_type": "code",
   "execution_count": null,
   "metadata": {},
   "outputs": [],
   "source": []
  },
  {
   "cell_type": "code",
   "execution_count": null,
   "metadata": {},
   "outputs": [],
   "source": []
  }
 ],
 "metadata": {
  "kernelspec": {
   "display_name": "Python 3",
   "language": "python",
   "name": "python3"
  },
  "language_info": {
   "codemirror_mode": {
    "name": "ipython",
    "version": 3
   },
   "file_extension": ".py",
   "mimetype": "text/x-python",
   "name": "python",
   "nbconvert_exporter": "python",
   "pygments_lexer": "ipython3",
   "version": "3.7.3"
  }
 },
 "nbformat": 4,
 "nbformat_minor": 2
}
