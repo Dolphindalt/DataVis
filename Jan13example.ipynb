{
 "cells": [
  {
   "cell_type": "markdown",
   "metadata": {},
   "source": [
    "## matplotlib Example 2"
   ]
  },
  {
   "cell_type": "markdown",
   "metadata": {},
   "source": [
    "In the first assignment you will import data, create a scatter plot, and fit a line to the data. \n",
    "\n",
    "We can import data from a comma separated csv file into a Pandas data frame."
   ]
  },
  {
   "cell_type": "code",
   "execution_count": 1,
   "metadata": {},
   "outputs": [
    {
     "name": "stdout",
     "output_type": "stream",
     "text": [
      "Type: <class 'pandas.core.frame.DataFrame'>\n",
      "\n",
      "Head:\n",
      "   Year  Number_of_consumer_units_in_thousands  Income_before_taxes_1  \\\n",
      "0  2000                                 109367                  44649   \n",
      "1  2001                                 110339                  47507   \n",
      "2  2002                                 112108                  49430   \n",
      "3  2003                                 115356                  51128   \n",
      "4  2004                                 116282                  54453   \n",
      "\n",
      "   Income_after_taxes_1  Age_of_reference_person  \n",
      "0                 41532                     48.2  \n",
      "1                 44587                     48.1  \n",
      "2                 46934                     48.1  \n",
      "3                 48596                     48.4  \n",
      "4                 52287                     48.5   \n",
      "\n",
      "Description:\n",
      "\n",
      "              Year  Number_of_consumer_units_in_thousands  \\\n",
      "count    18.000000                              18.000000   \n",
      "mean   2008.500000                          120550.666667   \n",
      "std       5.338539                            6314.579032   \n",
      "min    2000.000000                          109367.000000   \n",
      "25%    2004.250000                          116550.500000   \n",
      "50%    2008.500000                          120808.500000   \n",
      "75%    2012.750000                          125356.500000   \n",
      "max    2017.000000                          130001.000000   \n",
      "\n",
      "       Income_before_taxes_1  Income_after_taxes_1  Age_of_reference_person  \n",
      "count              18.000000             18.000000                18.000000  \n",
      "mean            60900.555556          56690.333333                49.316667  \n",
      "std              8524.329922           6965.114990                 0.956249  \n",
      "min             44649.000000          41532.000000                48.100000  \n",
      "25%             55517.750000          53291.250000                48.525000  \n",
      "50%             62974.000000          59406.000000                49.250000  \n",
      "75%             65143.000000          61469.250000                50.075000  \n",
      "max             74664.000000          64175.000000                50.900000  \n"
     ]
    }
   ],
   "source": [
    "#import the needed modules\n",
    "#Reads data from an Excel csv file\n",
    "import matplotlib.pyplot as plt\n",
    "import numpy as np\n",
    "import pandas\n",
    "\n",
    "\n",
    "#create a pandas data frame and prints some info\n",
    "df = pandas.read_csv(\"income2.csv\")\n",
    "print(\"Type:\",type(df))\n",
    "\n",
    "#print the first 5 lines in the file\n",
    "print(\"\\nHead:\")\n",
    "print(df.head(),\"\\n\")\n",
    "\n",
    "\n",
    "print(\"Description:\\n\")\n",
    "print(df.describe())\n",
    "\n",
    "\n"
   ]
  },
  {
   "cell_type": "code",
   "execution_count": 2,
   "metadata": {
    "scrolled": true
   },
   "outputs": [
    {
     "name": "stdout",
     "output_type": "stream",
     "text": [
      "0     2000\n",
      "1     2001\n",
      "2     2002\n",
      "3     2003\n",
      "4     2004\n",
      "5     2005\n",
      "6     2006\n",
      "7     2007\n",
      "8     2008\n",
      "9     2009\n",
      "10    2010\n",
      "11    2011\n",
      "12    2012\n",
      "13    2013\n",
      "14    2014\n",
      "15    2015\n",
      "16    2016\n",
      "17    2017\n",
      "Name: Year, dtype: int64\n"
     ]
    }
   ],
   "source": [
    "#Can select data by labels or array location\n",
    "x=df['Year']    #use the label 'Year' to assign column 0 to x\n",
    "y=df.iloc[:,1]  #assign column 1 to y\n",
    "print(x)\n"
   ]
  },
  {
   "cell_type": "markdown",
   "metadata": {},
   "source": [
    "Next create a scatter plot using the x and y values and fit a line to the data."
   ]
  },
  {
   "cell_type": "code",
   "execution_count": 3,
   "metadata": {},
   "outputs": [
    {
     "data": {
      "image/png": "[encoded data removed]",
      "text/plain": [
       "<Figure size 432x288 with 1 Axes>"
      ]
     },
     "metadata": {
      "needs_background": "light"
     },
     "output_type": "display_data"
    }
   ],
   "source": [
    "import numpy as np\n",
    "A = np.vstack([x, np.ones(len(x))]).T\n",
    "m, c = np.linalg.lstsq(A, y,rcond=None)[0]\n",
    "\n",
    "#create the scatter plot with the best fit line\n",
    "plt.scatter(x,y,c='g',marker=\"+\")\n",
    "plt.plot(x, m*x + c, 'r', label='Fitted line')\n",
    "plt.xlabel(\"Year\")\n",
    "plt.ylabel(\"# of Households\")\n",
    "plt.title(\"Example Plot\")\n",
    "plt.xticks(np.arange(2000,2018,2))\n",
    "plt.show()"
   ]
  },
  {
   "cell_type": "markdown",
   "metadata": {},
   "source": [
    "## Bar Charts"
   ]
  },
  {
   "cell_type": "markdown",
   "metadata": {},
   "source": [
    "Next we will look at bar charts. See matplotlib for documentation."
   ]
  },
  {
   "cell_type": "code",
   "execution_count": 4,
   "metadata": {},
   "outputs": [
    {
     "data": {
      "text/plain": [
       "Text(0.5, 1.0, 'Example Plot')"
      ]
     },
     "execution_count": 4,
     "metadata": {},
     "output_type": "execute_result"
    },
    {
     "data": {
      "image/png": "[encoded data removed]",
      "text/plain": [
       "<Figure size 432x288 with 1 Axes>"
      ]
     },
     "metadata": {
      "needs_background": "light"
     },
     "output_type": "display_data"
    }
   ],
   "source": [
    "bar1=plt.bar(x,y)\n",
    "y=df.iloc[:,2]  #assign column 2 with income to y\n",
    "plt.xlabel(\"Year\")\n",
    "plt.ylabel(\"Income\")\n",
    "plt.title(\"Example Plot\")"
   ]
  },
  {
   "cell_type": "markdown",
   "metadata": {},
   "source": [
    "Create a stacked bar chart comparing two incomes before and after taxes."
   ]
  },
  {
   "cell_type": "code",
   "execution_count": 5,
   "metadata": {},
   "outputs": [
    {
     "data": {
      "text/plain": [
       "Text(0.5, 1.0, 'Example Plot')"
      ]
     },
     "execution_count": 5,
     "metadata": {},
     "output_type": "execute_result"
    },
    {
     "data": {
      "image/png": "[encoded data removed]",
      "text/plain": [
       "<Figure size 432x288 with 1 Axes>"
      ]
     },
     "metadata": {
      "needs_background": "light"
     },
     "output_type": "display_data"
    }
   ],
   "source": [
    "y2=df.iloc[:,3]     #select the total income after taxes\n",
    "\n",
    "#create the bars, labels, and titles\n",
    "bar1=plt.bar(x,y)\n",
    "bar2=plt.bar(x,y2)\n",
    "plt.xlabel(\"Year\")\n",
    "plt.ylabel(\"Income\")\n",
    "plt.title(\"Example Plot\")\n",
    "\n",
    "\n"
   ]
  },
  {
   "cell_type": "code",
   "execution_count": 6,
   "metadata": {},
   "outputs": [
    {
     "data": {
      "image/png": "[encoded data removed]",
      "text/plain": [
       "<Figure size 432x288 with 1 Axes>"
      ]
     },
     "metadata": {
      "needs_background": "light"
     },
     "output_type": "display_data"
    }
   ],
   "source": [
    "#create the bars, labels, and titles\n",
    "bar2=plt.bar(x,y2) #Note order bars created is reversed\n",
    "bar1=plt.bar(x,y)\n",
    "plt.xlabel(\"Year\")\n",
    "plt.ylabel(\"Income\")\n",
    "plt.title(\"Example Plot\")\n",
    "\n",
    "#add the color legend and specify the tick mark intervals\n",
    "plt.legend((bar1[0],bar2[0]),('Income before taxes','Income after taxes'))\n",
    "plt.xticks(np.arange(2000,2018,2))\n",
    "plt.show()"
   ]
  },
  {
   "cell_type": "markdown",
   "metadata": {},
   "source": [
    "Note that the order the bars are created matters since one bar is being plotted on top of the other bar when bar2 is created first.  This is not a true stack bar chart, but the previous visualization does show income before taxes in orange and taxes paid in blue. Sometimes you want to display a grouped bar chart, in this case different bars adjacent to each other for the same year."
   ]
  },
  {
   "cell_type": "code",
   "execution_count": 7,
   "metadata": {},
   "outputs": [
    {
     "data": {
      "image/png": "[encoded data removed]",
      "text/plain": [
       "<Figure size 432x288 with 1 Axes>"
      ]
     },
     "metadata": {
      "needs_background": "light"
     },
     "output_type": "display_data"
    }
   ],
   "source": [
    "#create the bars, but assign a width and shift so bars do not overlap\n",
    "width = .35\n",
    "bars1=plt.bar(x-width/2,y,width) #Shift the center of the bar to the left\n",
    "bars2=plt.bar(x+width/2,y2,width)#Shift the bar center to the right\n",
    "\n",
    "#add labels, color legend and specify the tick mark intervals\n",
    "plt.xlabel(\"Year\")\n",
    "plt.ylabel(\"Income\")\n",
    "plt.title(\"Example Plot\")\n",
    "plt.legend((bars1[0],bars2[0]),('Income before taxes','Income after taxes'))\n",
    "plt.xticks(np.arange(2000,2018,2))\n",
    "\n",
    "plt.show()\n"
   ]
  },
  {
   "cell_type": "code",
   "execution_count": null,
   "metadata": {},
   "outputs": [],
   "source": []
  }
 ],
 "metadata": {
  "kernelspec": {
   "display_name": "Python 3",
   "language": "python",
   "name": "python3"
  },
  "language_info": {
   "codemirror_mode": {
    "name": "ipython",
    "version": 3
   },
   "file_extension": ".py",
   "mimetype": "text/x-python",
   "name": "python",
   "nbconvert_exporter": "python",
   "pygments_lexer": "ipython3",
   "version": "3.8.1"
  }
 },
 "nbformat": 4,
 "nbformat_minor": 2
}
